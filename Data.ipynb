{
 "cells": [
  {
   "cell_type": "code",
   "execution_count": 2,
   "id": "6e9f8530",
   "metadata": {},
   "outputs": [],
   "source": [
    "from datasets import load_dataset\n",
    "from transformers import AutoTokenizer\n",
    "\n",
    "dataset = load_dataset(\"parquet\", data_files={\n",
    "    \"train\": \"data/train-00000-of-00001-baac38b53532b0da.parquet\",\n",
    "    \"test\": \"data/test-00000-of-00001-1019821dbb200a34.parquet\"\n",
    "})"
   ]
  },
  {
   "cell_type": "code",
   "execution_count": 8,
   "id": "a3d9dfdf",
   "metadata": {},
   "outputs": [
    {
     "name": "stdout",
     "output_type": "stream",
     "text": [
      "Max length of Sentences in train dataset: 225\n",
      "Max length of Sentences in test dataset: 225\n"
     ]
    }
   ],
   "source": [
    "max_len = 0\n",
    "for i in dataset[\"train\"]:\n",
    "    max_len = max(max_len, len(i[\"tokens\"]))\n",
    "print(f\"Max length of Sentences in train dataset: {max_len}\")\n",
    "\n",
    "for i in dataset[\"test\"]:\n",
    "    max_len = max(max_len, len(i[\"tokens\"]))\n",
    "print(f\"Max length of Sentences in test dataset: {max_len}\")"
   ]
  },
  {
   "cell_type": "code",
   "execution_count": 7,
   "id": "f130f024",
   "metadata": {},
   "outputs": [
    {
     "name": "stdout",
     "output_type": "stream",
     "text": [
      "O: 508,137\n",
      "B-Disease: 19,733\n",
      "I-Disease: 16,670\n"
     ]
    }
   ],
   "source": [
    "from collections import Counter\n",
    "\n",
    "tag_counter = Counter()\n",
    "\n",
    "for split in [\"train\", \"test\"]:\n",
    "    for example in dataset[split]:\n",
    "        tag_counter.update(example[\"tags\"])\n",
    "\n",
    "id2label = {\n",
    "    0: \"O\",\n",
    "    1: \"B-Disease\",\n",
    "    2: \"I-Disease\"\n",
    "}\n",
    "\n",
    "for tag_id, count in sorted(tag_counter.items()):\n",
    "    print(f\"{id2label[tag_id]}: {count:,}\")"
   ]
  },
  {
   "cell_type": "code",
   "execution_count": 10,
   "id": "9da6cdee",
   "metadata": {},
   "outputs": [
    {
     "name": "stdout",
     "output_type": "stream",
     "text": [
      "Độ dài câu: min=2, max=225, mean=25.66\n"
     ]
    }
   ],
   "source": [
    "import numpy as np\n",
    "\n",
    "lengths = [len(example[\"tokens\"]) for split in dataset for example in dataset[split]]\n",
    "print(f\"Độ dài câu: min={np.min(lengths)}, max={np.max(lengths)}, mean={np.mean(lengths):.2f}\")\n"
   ]
  }
 ],
 "metadata": {
  "kernelspec": {
   "display_name": "MachineLearning",
   "language": "python",
   "name": "python3"
  },
  "language_info": {
   "codemirror_mode": {
    "name": "ipython",
    "version": 3
   },
   "file_extension": ".py",
   "mimetype": "text/x-python",
   "name": "python",
   "nbconvert_exporter": "python",
   "pygments_lexer": "ipython3",
   "version": "3.12.9"
  }
 },
 "nbformat": 4,
 "nbformat_minor": 5
}
